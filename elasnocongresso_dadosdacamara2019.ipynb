{
 "cells": [
  {
   "cell_type": "code",
   "execution_count": null,
   "metadata": {},
   "outputs": [],
   "source": [
    "#importando biblioteca pandas\n",
    "import pandas as pd\n",
    "\n",
    "#importando csv com dados de todos as proposições da Câmara criados em 2019 sobre direitos das mulheres\n",
    "dados = pd.read_excel('mulheres_camara.xlsx') \n",
    "\n",
    "#renomeando coluna @tipo para Tipo:\n",
    "dados2 = dados.rename(columns= {'@tipo': 'Tipo'})\n",
    "\n",
    "#selecionando apenas os tipos de proposições que utilizamos nas matérias\n",
    "usaveis = dados2[dados2.Tipo.isin(['PL', 'PLP', 'PEC', 'PLS', 'MVP', 'PDC', 'PRC', 'PLC', 'SCD', 'PDS', 'PDC', 'PRC', 'PLV'])]\n",
    "\n",
    "#SELECIONANDO PROJETOS SOBRE VIOLÊNCIA CONTRA A MULHER\n",
    "\n",
    "#usando regex para criar banco de dados apenas com projetos que têm os termos 'Lei Maria da Penha' ou '11.340' em sua ementa:\n",
    "LMP = usaveis[usaveis['Ementa'].str.contains('(?!$)Maria da Penha(?!$)|(?!$)11.340(?!$)', na=False, regex=True)]\n",
    "\n",
    "#usando regex para criar banco de dados apenas com projetos que têm o termo 'violência' em sua ementa:\n",
    "viomulher = dados[dados['Ementa'].str.contains(r'(?!$)violência(?!$)', na=False)]\n",
    "\n",
    "#unindo os dois bancos de dados\n",
    "vioLMP = pd.concat([viomulher,LMP], sort=False)\n",
    "\n",
    "#exportando dados concatenados para Excel\n",
    "vioLMP.to_excel('camaraajustado.xlsx',encoding='utf-8')\n",
    "\n",
    "#SELECIONANDO PROJETOS SOBRE POLÍTICA\n",
    "\n",
    "#usando regex para criar banco de dados apenas com projetos que têm o termo 'Política' em sua descrição de tema:\n",
    "política = usaveis[usaveis['tema'].str.contains(r'(?!$)Política(?!$)', na=False)]\n",
    "\n",
    "#exportando dados para Excel\n",
    "política.to_excel('políticaCâmaraajustado.xlsx',encoding='utf-8')\n",
    "\n",
    "#SELECIONANDO PROJETOS SOBRE ABORTO\n",
    "\n",
    "#usando regex para criar banco de dados apenas com projetos que têm os termos 'aborto', ou 'nascituro', ou 'interrupção da gravidez' em sua ementa:\n",
    "aborto = usaveis[usaveis['Ementa'].str.contains('(?!$)aborto(?!$)|(?!$)nascituro(?!$)|(?!$)interrupção de gravidez(?!$)', na=False, regex=True)]\n"
   ]
  }
 ],
 "metadata": {
  "kernelspec": {
   "display_name": "Python 3",
   "language": "python",
   "name": "python3"
  },
  "language_info": {
   "codemirror_mode": {
    "name": "ipython",
    "version": 3
   },
   "file_extension": ".py",
   "mimetype": "text/x-python",
   "name": "python",
   "nbconvert_exporter": "python",
   "pygments_lexer": "ipython3",
   "version": "3.7.4"
  }
 },
 "nbformat": 4,
 "nbformat_minor": 2
}
